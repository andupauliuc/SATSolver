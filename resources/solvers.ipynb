{
 "cells": [
  {
   "cell_type": "code",
   "execution_count": 2,
   "metadata": {
    "collapsed": true
   },
   "outputs": [],
   "source": [
    "from pprint import pprint\n",
    "import numpy as np"
   ]
  },
  {
   "cell_type": "code",
   "execution_count": 11,
   "metadata": {},
   "outputs": [],
   "source": [
    "quizzes = np.zeros((10, 81), np.int32)\n",
    "solutions = np.zeros((10, 81), np.int32)\n",
    "for i, line in enumerate(open('sudoku.csv', 'r').read().splitlines()[1:11]):\n",
    "    quiz, solution = line.split(\",\")\n",
    "    for j, q_s in enumerate(zip(quiz, solution)):\n",
    "        q, s = q_s\n",
    "        quizzes[i, j] = q\n",
    "        solutions[i, j] = s\n",
    "quizzes = quizzes.reshape((-1, 9, 9))\n",
    "solutions = solutions.reshape((-1, 9, 9))"
   ]
  },
  {
   "cell_type": "code",
   "execution_count": 17,
   "metadata": {},
   "outputs": [
    {
     "data": {
      "text/plain": [
       "numpy.ndarray"
      ]
     },
     "execution_count": 17,
     "metadata": {},
     "output_type": "execute_result"
    }
   ],
   "source": [
    "type(quizzes[1])"
   ]
  },
  {
   "cell_type": "code",
   "execution_count": 18,
   "metadata": {
    "collapsed": true
   },
   "outputs": [],
   "source": [
    "quizz = quizzes[1]"
   ]
  },
  {
   "cell_type": "code",
   "execution_count": 21,
   "metadata": {},
   "outputs": [
    {
     "data": {
      "text/plain": [
       "[[0, 4, 0, 1, 0, 0, 0, 5, 0],\n",
       " [1, 0, 7, 0, 0, 3, 9, 6, 0],\n",
       " [5, 2, 0, 0, 0, 8, 0, 0, 0],\n",
       " [0, 0, 0, 0, 0, 0, 0, 1, 7],\n",
       " [0, 0, 0, 9, 0, 6, 8, 0, 0],\n",
       " [8, 0, 3, 0, 5, 0, 6, 2, 0],\n",
       " [0, 9, 0, 0, 6, 0, 5, 4, 3],\n",
       " [6, 0, 0, 0, 8, 0, 7, 0, 0],\n",
       " [2, 5, 0, 0, 9, 7, 1, 0, 0]]"
      ]
     },
     "execution_count": 21,
     "metadata": {},
     "output_type": "execute_result"
    }
   ],
   "source": [
    "quizz.tolist()"
   ]
  }
 ],
 "metadata": {
  "kernelspec": {
   "display_name": "Python 3",
   "language": "python",
   "name": "python3"
  },
  "language_info": {
   "codemirror_mode": {
    "name": "ipython",
    "version": 3
   },
   "file_extension": ".py",
   "mimetype": "text/x-python",
   "name": "python",
   "nbconvert_exporter": "python",
   "pygments_lexer": "ipython3",
   "version": "3.6.1"
  }
 },
 "nbformat": 4,
 "nbformat_minor": 2
}

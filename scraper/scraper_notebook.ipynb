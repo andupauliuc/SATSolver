{
 "cells": [
  {
   "cell_type": "code",
   "execution_count": 1,
   "metadata": {
    "collapsed": true
   },
   "outputs": [],
   "source": [
    "import requests\n",
    "from bs4 import BeautifulSoup\n",
    "import pandas as pd\n",
    "import numpy as np\n",
    "import csv\n",
    "from time import sleep"
   ]
  },
  {
   "cell_type": "code",
   "execution_count": 2,
   "metadata": {
    "collapsed": true
   },
   "outputs": [],
   "source": [
    "params = {\n",
    "    '2': {\n",
    "        'p_link':'http://www.menneske.no/sudoku/2/eng/random.html?diff=1',\n",
    "        'p_sol':'http://www.menneske.no/sudoku/2/eng/solution.html?number={}',\n",
    "        'number':10000\n",
    "    },\n",
    "    '3': {\n",
    "        'p_link':'http://www.menneske.no/sudoku/eng/random.html?diff=7',\n",
    "        'p_sol':'http://www.menneske.no/sudoku/eng/solution.html?number={}',\n",
    "        'number':10000\n",
    "    },\n",
    "    '4': {\n",
    "        'p_link':'http://www.menneske.no/sudoku/4/eng/random.html?diff=7',\n",
    "        'p_sol':'http://www.menneske.no/sudoku/4/eng/solution.html?number={}',\n",
    "        'number':10000\n",
    "    },\n",
    "    '5': {\n",
    "        'p_link':'http://www.menneske.no/sudoku/5/eng/random.html?diff=7',\n",
    "        'p_sol':'http://www.menneske.no/sudoku/5/eng/solution.html?number={}',\n",
    "        'number':5000\n",
    "    },\n",
    "    '6': {\n",
    "        'p_link':'http://www.menneske.no/sudoku/6/eng/random.html?diff=5',\n",
    "        'p_sol':'http://www.menneske.no/sudoku/6/eng/solution.html?number={}',\n",
    "        'number':1500\n",
    "    },\n",
    "    '7': {\n",
    "        'p_link':'http://www.menneske.no/sudoku/7/eng/',\n",
    "        'p_sol':'http://www.menneske.no/sudoku/7/eng/solution.html?number={}',\n",
    "        'number':18\n",
    "    },\n",
    "    '8': {\n",
    "        'p_link':'http://www.menneske.no/sudoku/8/eng/',\n",
    "        'p_sol':'http://www.menneske.no/sudoku/8/eng/solution.html?number={}',\n",
    "        'number':6\n",
    "    }\n",
    "}\n",
    "\n",
    "def get_sudokus(p):\n",
    "    puzzle_link = p['p_link']\n",
    "    solution_link = p['p_sol']\n",
    "    \n",
    "    req = requests.get(puzzle_link)\n",
    "    c = req.content    \n",
    "    soup = BeautifulSoup(c, 'html.parser')\n",
    "\n",
    "    grid_txt = soup.find_all('div', {'class':'grid'})[0].text\n",
    "    puzzle_no = grid_txt[str.find(grid_txt, 'Showing puzzle')+23:str.find(grid_txt, 'Puzzletype')]\n",
    "\n",
    "    rows = soup.find_all('tr', {'class':'grid'})\n",
    "    puzzle = []\n",
    "    for row in rows:\n",
    "        cols = row.find_all('td')\n",
    "        for col in cols:\n",
    "            txt = col.text\n",
    "            if txt != '\\xa0':\n",
    "                puzzle.append(txt)\n",
    "            else:\n",
    "                puzzle.append('0')\n",
    "    puzzle = ' '.join(puzzle)\n",
    "\n",
    "\n",
    "    req_sol = requests.get(solution_link.format(puzzle_no))\n",
    "    c = req_sol.content\n",
    "    soup = BeautifulSoup(c, 'html.parser')\n",
    "    rows = soup.find_all('tr', {'class':'grid'})\n",
    "    solution = []\n",
    "    for row in rows:\n",
    "        cols = row.find_all('td')\n",
    "        for col in cols:\n",
    "            txt = col.text\n",
    "            if txt != '\\xa0':\n",
    "                solution.append(txt)\n",
    "            else:\n",
    "                solution.append('0')\n",
    "    solution = ' '.join(solution)\n",
    "\n",
    "    return puzzle, solution"
   ]
  },
  {
   "cell_type": "code",
   "execution_count": 37,
   "metadata": {
    "collapsed": true
   },
   "outputs": [],
   "source": [
    "df = pd.DataFrame({'puzzle':[], 'solutions':[]})\n",
    "df.to_csv('sudoku_3.csv', index=False, sep=',')"
   ]
  },
  {
   "cell_type": "code",
   "execution_count": 3,
   "metadata": {
    "collapsed": true
   },
   "outputs": [],
   "source": [
    "set_params = params['3']\n",
    "i = 1\n",
    "counter = set_params['number']\n",
    "def tryAgain(retries=0):\n",
    "    if retries > 20: return\n",
    "    try:\n",
    "        with open('sudoku_3.csv', 'a') as f:\n",
    "            writer = csv.writer(f)\n",
    "            global i\n",
    "\n",
    "            while i <= counter:\n",
    "                puzzle_no_list = []\n",
    "\n",
    "                p, s = get_sudokus(set_params)\n",
    "\n",
    "                writer.writerow([p, s])\n",
    "                f.flush()\n",
    "                \n",
    "                i += 1\n",
    "    except Exception as e:\n",
    "        print(e)\n",
    "        sleep(2)\n",
    "        retries+=1\n",
    "        tryAgain(retries)\n",
    "\n",
    "tryAgain(0)"
   ]
  }
 ],
 "metadata": {
  "kernelspec": {
   "display_name": "Python 3",
   "language": "python",
   "name": "python3"
  },
  "language_info": {
   "codemirror_mode": {
    "name": "ipython",
    "version": 3
   },
   "file_extension": ".py",
   "mimetype": "text/x-python",
   "name": "python",
   "nbconvert_exporter": "python",
   "pygments_lexer": "ipython3",
   "version": "3.6.1"
  }
 },
 "nbformat": 4,
 "nbformat_minor": 2
}

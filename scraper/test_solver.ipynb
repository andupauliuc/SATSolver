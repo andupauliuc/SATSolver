{
 "cells": [
  {
   "cell_type": "code",
   "execution_count": 3,
   "metadata": {},
   "outputs": [
    {
     "name": "stdout",
     "output_type": "stream",
     "text": [
      "[[0, 0, 0, 0, 0, 0, 9, 2, 0],\n",
      " [0, 8, 0, 7, 0, 0, 6, 0, 0],\n",
      " [3, 0, 0, 6, 0, 0, 0, 7, 0],\n",
      " [0, 0, 0, 0, 0, 5, 0, 9, 0],\n",
      " [5, 0, 0, 9, 0, 0, 8, 0, 1],\n",
      " [6, 0, 0, 0, 2, 0, 0, 0, 0],\n",
      " [0, 0, 1, 3, 0, 0, 0, 0, 9],\n",
      " [0, 0, 0, 0, 0, 6, 7, 0, 0],\n",
      " [0, 0, 4, 1, 9, 0, 3, 0, 0]]\n",
      "Quiz 1 gives good solution\n",
      "[[1, 7, 6, 5, 3, 4, 9, 2, 8],\n",
      " [4, 8, 2, 7, 1, 9, 6, 5, 3],\n",
      " [3, 9, 5, 6, 8, 2, 1, 7, 4],\n",
      " [8, 1, 3, 4, 7, 5, 2, 9, 6],\n",
      " [5, 2, 7, 9, 6, 3, 8, 4, 1],\n",
      " [6, 4, 9, 8, 2, 1, 5, 3, 7],\n",
      " [2, 6, 1, 3, 5, 7, 4, 8, 9],\n",
      " [9, 3, 8, 2, 4, 6, 7, 1, 5],\n",
      " [7, 5, 4, 1, 9, 8, 3, 6, 2]]\n"
     ]
    }
   ],
   "source": [
    "from pprint import pprint\n",
    "import numpy as np\n",
    "import solver\n",
    "\n",
    "def load_sudokus(N):\n",
    "    quizzes = np.zeros((N, 81), np.int32)\n",
    "    solutions = np.zeros((N, 81), np.int32)\n",
    "    for i, line in enumerate(open('sudoku.csv', 'r').read().splitlines()[1:N + 1]):\n",
    "        quiz, solution = line.split(\",\")\n",
    "        for j, q_s in enumerate(zip(quiz, solution)):\n",
    "            q, s = q_s\n",
    "            quizzes[i, j] = q\n",
    "            solutions[i, j] = s\n",
    "    quizzes = quizzes.reshape((-1, 9, 9))\n",
    "    solutions = solutions.reshape((-1, 9, 9))\n",
    "    return quizzes, solutions\n",
    "\n",
    "\n",
    "if __name__ == '__main__':\n",
    "    noq = 1\n",
    "    quizzes, solutions = load_sudokus(noq)\n",
    "\n",
    "    for i in np.arange(0, noq):\n",
    "        quiz = quizzes[i].tolist()\n",
    "        solution = solutions[i].tolist()\n",
    "        \n",
    "        pprint(quiz)\n",
    "\n",
    "        solver.solve(quiz)\n",
    "\n",
    "        if quiz == solution:\n",
    "            print(\"Quiz {0} gives good solution\".format(i + 1))\n",
    "            pprint(quiz)\n",
    "        \n",
    "        else:\n",
    "            print(\"Quiz {0} sucks on solution\".format(i + 1))\n",
    "            pprint(quiz)\n",
    "            pprint(solution)\n"
   ]
  }
 ],
 "metadata": {
  "kernelspec": {
   "display_name": "Python 3",
   "language": "python",
   "name": "python3"
  },
  "language_info": {
   "codemirror_mode": {
    "name": "ipython",
    "version": 3
   },
   "file_extension": ".py",
   "mimetype": "text/x-python",
   "name": "python",
   "nbconvert_exporter": "python",
   "pygments_lexer": "ipython3",
   "version": "3.6.1"
  }
 },
 "nbformat": 4,
 "nbformat_minor": 2
}

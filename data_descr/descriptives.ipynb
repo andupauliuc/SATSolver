{
 "cells": [
  {
   "cell_type": "code",
   "execution_count": 1,
   "metadata": {
    "collapsed": true
   },
   "outputs": [],
   "source": [
    "import numpy as np\n",
    "import pandas as pd\n",
    "import csv"
   ]
  },
  {
   "cell_type": "code",
   "execution_count": 57,
   "metadata": {},
   "outputs": [],
   "source": [
    "df = pd.DataFrame({'puzzle':[], 'mean_givens':[], 'min_givens':[], 'max_givens':[]})\n",
    "df = df[['puzzle', 'mean_givens', 'min_givens', 'max_givens']]\n",
    "dims = [2, 3, 4]\n",
    "N = 9998\n",
    "ind = 0\n",
    "\n",
    "for dim in dims:\n",
    "    xx = dim ** 4\n",
    "    yy = dim ** 2\n",
    "    puzzles = np.zeros((N, xx), np.int32)\n",
    "    solutions = np.zeros((N, xx), np.int32)\n",
    "    for i, line in enumerate(open('../resources/sudoku_{}_save.csv'.format(dim), 'r').read().splitlines()[1:N + 1]):\n",
    "        puzzle, solution = line.split(\",\")\n",
    "        for j, q_s in enumerate(zip(puzzle.split(' '), solution.split(' '))):\n",
    "            q, s = q_s[0], q_s[1]\n",
    "            puzzles[i, j] = q\n",
    "            solutions[i, j] = s\n",
    "    puzzles = puzzles.reshape((-1, yy, yy))\n",
    "    solutions = solutions.reshape((-1, yy, yy))\n",
    "    \n",
    "    givens = []\n",
    "    for puzzle in puzzles:\n",
    "        p = puzzle.tolist()\n",
    "        counter = 0\n",
    "        for i in np.arange(1, dim**2+1):\n",
    "            for j in np.arange(1, dim**2+1):\n",
    "                if p[i-1][j-1] != 0:\n",
    "                    counter += 1\n",
    "        givens.append(counter)\n",
    "    givens = np.array(givens)\n",
    "    \n",
    "    df.loc[ind] = [dim, givens.mean(), givens.min(), givens.max()]\n",
    "    ind += 1"
   ]
  },
  {
   "cell_type": "code",
   "execution_count": 58,
   "metadata": {},
   "outputs": [],
   "source": [
    "df5 = pd.DataFrame({'puzzle':[], 'mean_givens':[], 'min_givens':[], 'max_givens':[]})\n",
    "df5 = df5[['puzzle', 'mean_givens', 'min_givens', 'max_givens']]\n",
    "dim5 = 5\n",
    "N = 5000\n",
    "xx = dim5 ** 4\n",
    "yy = dim5 ** 2\n",
    "puzzles = np.zeros((N, xx), np.int32)\n",
    "solutions = np.zeros((N, xx), np.int32)\n",
    "for i, line in enumerate(open('../resources/sudoku_{}_save.csv'.format(dim5), 'r').read().splitlines()[1:N + 1]):\n",
    "    puzzle, solution = line.split(\",\")\n",
    "    for j, q_s in enumerate(zip(puzzle.split(' '), solution.split(' '))):\n",
    "        q, s = q_s[0], q_s[1]\n",
    "        puzzles[i, j] = q\n",
    "        solutions[i, j] = s\n",
    "puzzles = puzzles.reshape((-1, yy, yy))\n",
    "solutions = solutions.reshape((-1, yy, yy))\n",
    "\n",
    "givens = []\n",
    "for puzzle in puzzles:\n",
    "    p = puzzle.tolist()\n",
    "    counter = 0\n",
    "    for i in np.arange(1, dim**2+1):\n",
    "        for j in np.arange(1, dim**2+1):\n",
    "            if p[i-1][j-1] != 0:\n",
    "                counter += 1\n",
    "    givens.append(counter)\n",
    "givens = np.array(givens)\n",
    "\n",
    "df5.loc[0] = [dim5, givens.mean(), givens.min(), givens.max()]"
   ]
  },
  {
   "cell_type": "code",
   "execution_count": 59,
   "metadata": {},
   "outputs": [
    {
     "data": {
      "text/html": [
       "<div>\n",
       "<style>\n",
       "    .dataframe thead tr:only-child th {\n",
       "        text-align: right;\n",
       "    }\n",
       "\n",
       "    .dataframe thead th {\n",
       "        text-align: left;\n",
       "    }\n",
       "\n",
       "    .dataframe tbody tr th {\n",
       "        vertical-align: top;\n",
       "    }\n",
       "</style>\n",
       "<table border=\"1\" class=\"dataframe\">\n",
       "  <thead>\n",
       "    <tr style=\"text-align: right;\">\n",
       "      <th></th>\n",
       "      <th>puzzle</th>\n",
       "      <th>mean_givens</th>\n",
       "      <th>min_givens</th>\n",
       "      <th>max_givens</th>\n",
       "    </tr>\n",
       "  </thead>\n",
       "  <tbody>\n",
       "    <tr>\n",
       "      <th>0</th>\n",
       "      <td>2.0</td>\n",
       "      <td>4.987798</td>\n",
       "      <td>4.0</td>\n",
       "      <td>6.0</td>\n",
       "    </tr>\n",
       "    <tr>\n",
       "      <th>1</th>\n",
       "      <td>3.0</td>\n",
       "      <td>28.042809</td>\n",
       "      <td>19.0</td>\n",
       "      <td>40.0</td>\n",
       "    </tr>\n",
       "    <tr>\n",
       "      <th>2</th>\n",
       "      <td>4.0</td>\n",
       "      <td>109.124825</td>\n",
       "      <td>96.0</td>\n",
       "      <td>126.0</td>\n",
       "    </tr>\n",
       "  </tbody>\n",
       "</table>\n",
       "</div>"
      ],
      "text/plain": [
       "   puzzle  mean_givens  min_givens  max_givens\n",
       "0     2.0     4.987798         4.0         6.0\n",
       "1     3.0    28.042809        19.0        40.0\n",
       "2     4.0   109.124825        96.0       126.0"
      ]
     },
     "execution_count": 59,
     "metadata": {},
     "output_type": "execute_result"
    }
   ],
   "source": [
    "df"
   ]
  },
  {
   "cell_type": "code",
   "execution_count": 60,
   "metadata": {},
   "outputs": [
    {
     "data": {
      "text/html": [
       "<div>\n",
       "<style>\n",
       "    .dataframe thead tr:only-child th {\n",
       "        text-align: right;\n",
       "    }\n",
       "\n",
       "    .dataframe thead th {\n",
       "        text-align: left;\n",
       "    }\n",
       "\n",
       "    .dataframe tbody tr th {\n",
       "        vertical-align: top;\n",
       "    }\n",
       "</style>\n",
       "<table border=\"1\" class=\"dataframe\">\n",
       "  <thead>\n",
       "    <tr style=\"text-align: right;\">\n",
       "      <th></th>\n",
       "      <th>puzzle</th>\n",
       "      <th>mean_givens</th>\n",
       "      <th>min_givens</th>\n",
       "      <th>max_givens</th>\n",
       "    </tr>\n",
       "  </thead>\n",
       "  <tbody>\n",
       "    <tr>\n",
       "      <th>0</th>\n",
       "      <td>5.0</td>\n",
       "      <td>119.8866</td>\n",
       "      <td>103.0</td>\n",
       "      <td>138.0</td>\n",
       "    </tr>\n",
       "  </tbody>\n",
       "</table>\n",
       "</div>"
      ],
      "text/plain": [
       "   puzzle  mean_givens  min_givens  max_givens\n",
       "0     5.0     119.8866       103.0       138.0"
      ]
     },
     "execution_count": 60,
     "metadata": {},
     "output_type": "execute_result"
    }
   ],
   "source": [
    "df5"
   ]
  }
 ],
 "metadata": {
  "kernelspec": {
   "display_name": "Python 3",
   "language": "python",
   "name": "python3"
  },
  "language_info": {
   "codemirror_mode": {
    "name": "ipython",
    "version": 3
   },
   "file_extension": ".py",
   "mimetype": "text/x-python",
   "name": "python",
   "nbconvert_exporter": "python",
   "pygments_lexer": "ipython3",
   "version": "3.6.1"
  }
 },
 "nbformat": 4,
 "nbformat_minor": 2
}

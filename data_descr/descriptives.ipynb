{
 "cells": [
  {
   "cell_type": "code",
   "execution_count": 1,
   "metadata": {
    "collapsed": true
   },
   "outputs": [],
   "source": [
    "import numpy as np\n",
    "import pandas as pd\n",
    "import csv"
   ]
  },
  {
   "cell_type": "code",
   "execution_count": 1,
   "metadata": {},
   "outputs": [
    {
     "name": "stdout",
     "output_type": "stream",
     "text": [
      "-----------------------------------\nPuzzle size 2x2\n"
     ]
    },
    {
     "ename": "NameError",
     "evalue": "name 'np' is not defined",
     "traceback": [
      "\u001b[1;31m---------------------------------------------------------------------------\u001b[0m",
      "\u001b[1;31mNameError\u001b[0m                                 Traceback (most recent call last)",
      "\u001b[1;32m<ipython-input-1-447a95cf516d>\u001b[0m in \u001b[0;36m<module>\u001b[1;34m()\u001b[0m\n\u001b[0;32m     10\u001b[0m     \u001b[0mxx\u001b[0m \u001b[1;33m=\u001b[0m \u001b[0mdim\u001b[0m \u001b[1;33m**\u001b[0m \u001b[1;36m4\u001b[0m\u001b[1;33m\u001b[0m\u001b[0m\n\u001b[0;32m     11\u001b[0m     \u001b[0myy\u001b[0m \u001b[1;33m=\u001b[0m \u001b[0mdim\u001b[0m \u001b[1;33m**\u001b[0m \u001b[1;36m2\u001b[0m\u001b[1;33m\u001b[0m\u001b[0m\n\u001b[1;32m---> 12\u001b[1;33m     \u001b[0mpuzzles\u001b[0m \u001b[1;33m=\u001b[0m \u001b[0mnp\u001b[0m\u001b[1;33m.\u001b[0m\u001b[0mzeros\u001b[0m\u001b[1;33m(\u001b[0m\u001b[1;33m(\u001b[0m\u001b[0mN\u001b[0m\u001b[1;33m,\u001b[0m \u001b[0mxx\u001b[0m\u001b[1;33m)\u001b[0m\u001b[1;33m,\u001b[0m \u001b[0mnp\u001b[0m\u001b[1;33m.\u001b[0m\u001b[0mint32\u001b[0m\u001b[1;33m)\u001b[0m\u001b[1;33m\u001b[0m\u001b[0m\n\u001b[0m\u001b[0;32m     13\u001b[0m     \u001b[0msolutions\u001b[0m \u001b[1;33m=\u001b[0m \u001b[0mnp\u001b[0m\u001b[1;33m.\u001b[0m\u001b[0mzeros\u001b[0m\u001b[1;33m(\u001b[0m\u001b[1;33m(\u001b[0m\u001b[0mN\u001b[0m\u001b[1;33m,\u001b[0m \u001b[0mxx\u001b[0m\u001b[1;33m)\u001b[0m\u001b[1;33m,\u001b[0m \u001b[0mnp\u001b[0m\u001b[1;33m.\u001b[0m\u001b[0mint32\u001b[0m\u001b[1;33m)\u001b[0m\u001b[1;33m\u001b[0m\u001b[0m\n\u001b[0;32m     14\u001b[0m     \u001b[1;32mfor\u001b[0m \u001b[0mi\u001b[0m\u001b[1;33m,\u001b[0m \u001b[0mline\u001b[0m \u001b[1;32min\u001b[0m \u001b[0menumerate\u001b[0m\u001b[1;33m(\u001b[0m\u001b[0mopen\u001b[0m\u001b[1;33m(\u001b[0m\u001b[1;34m'../resources/sudoku_{}_save.csv'\u001b[0m\u001b[1;33m.\u001b[0m\u001b[0mformat\u001b[0m\u001b[1;33m(\u001b[0m\u001b[0mdim\u001b[0m\u001b[1;33m)\u001b[0m\u001b[1;33m,\u001b[0m \u001b[1;34m'r'\u001b[0m\u001b[1;33m)\u001b[0m\u001b[1;33m.\u001b[0m\u001b[0mread\u001b[0m\u001b[1;33m(\u001b[0m\u001b[1;33m)\u001b[0m\u001b[1;33m.\u001b[0m\u001b[0msplitlines\u001b[0m\u001b[1;33m(\u001b[0m\u001b[1;33m)\u001b[0m\u001b[1;33m[\u001b[0m\u001b[1;36m1\u001b[0m\u001b[1;33m:\u001b[0m\u001b[0mN\u001b[0m \u001b[1;33m+\u001b[0m \u001b[1;36m1\u001b[0m\u001b[1;33m]\u001b[0m\u001b[1;33m)\u001b[0m\u001b[1;33m:\u001b[0m\u001b[1;33m\u001b[0m\u001b[0m\n",
      "\u001b[1;31mNameError\u001b[0m: name 'np' is not defined"
     ],
     "output_type": "error"
    }
   ],
   "source": [
    "# df = pd.DataFrame({'puzzle':[], 'mean_givens':[], 'min_givens':[], 'max_givens':[]})\n",
    "# df = df[['puzzle', 'mean_givens', 'min_givens', 'max_givens']]\n",
    "dims = [2, 3, 4]\n",
    "N = 9998\n",
    "ind = 0\n",
    "\n",
    "for dim in dims:\n",
    "    print('-----------------------------------')\n",
    "    print('Puzzle size {}x{}'.format(dim, dim))\n",
    "    xx = dim ** 4\n",
    "    yy = dim ** 2\n",
    "    puzzles = np.zeros((N, xx), np.int32)\n",
    "    solutions = np.zeros((N, xx), np.int32)\n",
    "    for i, line in enumerate(open('../resources/sudoku_{}_save.csv'.format(dim), 'r').read().splitlines()[1:N + 1]):\n",
    "        puzzle, solution = line.split(\",\")\n",
    "        for j, q_s in enumerate(zip(puzzle.split(' '), solution.split(' '))):\n",
    "            q, s = q_s[0], q_s[1]\n",
    "            puzzles[i, j] = q\n",
    "            solutions[i, j] = s\n",
    "    puzzles = puzzles.reshape((-1, yy, yy))\n",
    "    solutions = solutions.reshape((-1, yy, yy))\n",
    "    \n",
    "    givens = []\n",
    "    for puzzle in puzzles:\n",
    "        p = puzzle.tolist()\n",
    "        counter = 0\n",
    "        for i in np.arange(1, yy+1):\n",
    "            for j in np.arange(1, yy+1):\n",
    "                if p[i-1][j-1] != 0:\n",
    "                    counter += 1\n",
    "        givens.append(counter)\n",
    "    givens = np.array(givens)\n",
    "    \n",
    "    print('Cells: {}'.format(dim**4))\n",
    "    print('Givens mean: {}'.format(givens.mean()))\n",
    "    print('Ratio: {}'.format(givens.mean()/(dim**4)))\n",
    "    print('Stdev: {}'.format(givens.std()))\n",
    "    print('Givens min: {}'.format(givens.min()))\n",
    "    print('Givens max: {}'.format(givens.max()))\n",
    "    \n",
    "    print('-----------------------------------')  \n",
    "    \n",
    "#     df.loc[ind] = [dim, givens.mean(), givens.min(), givens.max()]\n",
    "#     ind += 1"
   ]
  },
  {
   "cell_type": "code",
   "execution_count": 74,
   "metadata": {},
   "outputs": [
    {
     "name": "stdout",
     "output_type": "stream",
     "text": [
      "-----------------------------------\n",
      "Puzzle size 5x5\n",
      "Cells: 625\n",
      "Givens mean: 293.0396\n",
      "Ratio: 0.46886336\n",
      "Stdev: 9.598980770894377\n",
      "Givens min: 273\n",
      "Givens max: 320\n",
      "-----------------------------------\n",
      "\n"
     ]
    }
   ],
   "source": [
    "dim5 = 5\n",
    "N = 5000\n",
    "xx = dim5 ** 4\n",
    "yy = dim5 ** 2\n",
    "puzzles = np.zeros((N, xx), np.int32)\n",
    "solutions = np.zeros((N, xx), np.int32)\n",
    "for i, line in enumerate(open('../resources/sudoku_{}_save.csv'.format(dim5), 'r').read().splitlines()[1:N + 1]):\n",
    "    puzzle, solution = line.split(\",\")\n",
    "    for j, q_s in enumerate(zip(puzzle.split(' '), solution.split(' '))):\n",
    "        q, s = q_s[0], q_s[1]\n",
    "        puzzles[i, j] = q\n",
    "        solutions[i, j] = s\n",
    "puzzles = puzzles.reshape((-1, yy, yy))\n",
    "solutions = solutions.reshape((-1, yy, yy))\n",
    "\n",
    "givens = []\n",
    "for puzzle in puzzles:\n",
    "    p = puzzle.tolist()\n",
    "    counter = 0\n",
    "    for i in np.arange(1, yy+1):\n",
    "        for j in np.arange(1, yy+1):\n",
    "            if p[i-1][j-1] != 0:\n",
    "                counter += 1\n",
    "    givens.append(counter)\n",
    "givens = np.array(givens)\n",
    "\n",
    "print('-----------------------------------')\n",
    "print('Puzzle size {}x{}'.format(dim5, dim5))\n",
    "print('Cells: {}'.format(dim5**4))\n",
    "print('Givens mean: {}'.format(givens.mean()))\n",
    "print('Ratio: {}'.format(givens.mean()/(dim5**4)))\n",
    "print('Stdev: {}'.format(givens.std()))\n",
    "print('Givens min: {}'.format(givens.min()))\n",
    "print('Givens max: {}'.format(givens.max()))\n",
    "print('-----------------------------------\\n') "
   ]
  },
  {
   "cell_type": "code",
   "execution_count": 7,
   "metadata": {},
   "outputs": [
    {
     "data": {
      "image/png": "[encoded data removed]",
      "text/plain": [
       "<matplotlib.figure.Figure at 0x1de01a636a0>"
      ]
     },
     "metadata": {},
     "output_type": "display_data"
    }
   ],
   "source": [
    "import numpy as np\n",
    "import matplotlib.pyplot as plt\n",
    "\n",
    "x = np.arange(2,7)\n",
    "x2 = x**2\n",
    "fig = plt.figure(figsize=(16, 10), dpi=80)\n",
    "\n",
    "plt.scatter(x, x2, s=50, facecolors='none', edgecolors='blue', linewidth=1.5, zorder=2)\n",
    "plt.plot(x, x2, color='#07c607', linewidth=1.5, zorder=3)\n",
    "plt.xlim(-0, 40)\n",
    "plt.ylim(-0, 40)\n",
    "plt.show()"
   ]
  },
  {
   "cell_type": "code",
   "execution_count": null,
   "metadata": {},
   "outputs": [],
   "source": []
  }
 ],
 "metadata": {
  "kernelspec": {
   "display_name": "Python 3",
   "language": "python",
   "name": "python3"
  },
  "language_info": {
   "codemirror_mode": {
    "name": "ipython",
    "version": 3
   },
   "file_extension": ".py",
   "mimetype": "text/x-python",
   "name": "python",
   "nbconvert_exporter": "python",
   "pygments_lexer": "ipython3",
   "version": "3.6.1"
  }
 },
 "nbformat": 4,
 "nbformat_minor": 2
}

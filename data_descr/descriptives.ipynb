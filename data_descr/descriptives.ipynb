{
 "cells": [
  {
   "cell_type": "code",
   "execution_count": 1,
   "metadata": {
    "collapsed": true
   },
   "outputs": [],
   "source": [
    "import numpy as np\n",
    "import pandas as pd\n",
    "import csv"
   ]
  },
  {
   "cell_type": "code",
   "execution_count": 73,
   "metadata": {},
   "outputs": [
    {
     "name": "stdout",
     "output_type": "stream",
     "text": [
      "-----------------------------------\n",
      "Puzzle size 2x2\n",
      "Cells: 16\n",
      "Givens mean: 4.987797559511902\n",
      "Ratio: 0.3117373474694939\n",
      "Stdev: 0.9999255474514762\n",
      "Givens min: 4\n",
      "Givens max: 6\n",
      "-----------------------------------\n",
      "-----------------------------------\n",
      "Puzzle size 3x3\n",
      "Cells: 81\n",
      "Givens mean: 28.04280856171234\n",
      "Ratio: 0.34620751310755976\n",
      "Stdev: 2.829976951755651\n",
      "Givens min: 19\n",
      "Givens max: 40\n",
      "-----------------------------------\n",
      "-----------------------------------\n",
      "Puzzle size 4x4\n",
      "Cells: 256\n",
      "Givens mean: 109.124824964993\n",
      "Ratio: 0.4262688475195039\n",
      "Stdev: 10.855735407728828\n",
      "Givens min: 96\n",
      "Givens max: 126\n",
      "-----------------------------------\n"
     ]
    }
   ],
   "source": [
    "# df = pd.DataFrame({'puzzle':[], 'mean_givens':[], 'min_givens':[], 'max_givens':[]})\n",
    "# df = df[['puzzle', 'mean_givens', 'min_givens', 'max_givens']]\n",
    "dims = [2, 3, 4]\n",
    "N = 9998\n",
    "ind = 0\n",
    "\n",
    "for dim in dims:\n",
    "    print('-----------------------------------')\n",
    "    print('Puzzle size {}x{}'.format(dim, dim))\n",
    "    xx = dim ** 4\n",
    "    yy = dim ** 2\n",
    "    puzzles = np.zeros((N, xx), np.int32)\n",
    "    solutions = np.zeros((N, xx), np.int32)\n",
    "    for i, line in enumerate(open('../resources/sudoku_{}_save.csv'.format(dim), 'r').read().splitlines()[1:N + 1]):\n",
    "        puzzle, solution = line.split(\",\")\n",
    "        for j, q_s in enumerate(zip(puzzle.split(' '), solution.split(' '))):\n",
    "            q, s = q_s[0], q_s[1]\n",
    "            puzzles[i, j] = q\n",
    "            solutions[i, j] = s\n",
    "    puzzles = puzzles.reshape((-1, yy, yy))\n",
    "    solutions = solutions.reshape((-1, yy, yy))\n",
    "    \n",
    "    givens = []\n",
    "    for puzzle in puzzles:\n",
    "        p = puzzle.tolist()\n",
    "        counter = 0\n",
    "        for i in np.arange(1, yy+1):\n",
    "            for j in np.arange(1, yy+1):\n",
    "                if p[i-1][j-1] != 0:\n",
    "                    counter += 1\n",
    "        givens.append(counter)\n",
    "    givens = np.array(givens)\n",
    "    \n",
    "    print('Cells: {}'.format(dim**4))\n",
    "    print('Givens mean: {}'.format(givens.mean()))\n",
    "    print('Ratio: {}'.format(givens.mean()/(dim**4)))\n",
    "    print('Stdev: {}'.format(givens.std()))\n",
    "    print('Givens min: {}'.format(givens.min()))\n",
    "    print('Givens max: {}'.format(givens.max()))\n",
    "    \n",
    "    print('-----------------------------------')  \n",
    "    \n",
    "#     df.loc[ind] = [dim, givens.mean(), givens.min(), givens.max()]\n",
    "#     ind += 1"
   ]
  },
  {
   "cell_type": "code",
   "execution_count": 74,
   "metadata": {},
   "outputs": [
    {
     "name": "stdout",
     "output_type": "stream",
     "text": [
      "-----------------------------------\n",
      "Puzzle size 5x5\n",
      "Cells: 625\n",
      "Givens mean: 293.0396\n",
      "Ratio: 0.46886336\n",
      "Stdev: 9.598980770894377\n",
      "Givens min: 273\n",
      "Givens max: 320\n",
      "-----------------------------------\n",
      "\n"
     ]
    }
   ],
   "source": [
    "dim5 = 5\n",
    "N = 5000\n",
    "xx = dim5 ** 4\n",
    "yy = dim5 ** 2\n",
    "puzzles = np.zeros((N, xx), np.int32)\n",
    "solutions = np.zeros((N, xx), np.int32)\n",
    "for i, line in enumerate(open('../resources/sudoku_{}_save.csv'.format(dim5), 'r').read().splitlines()[1:N + 1]):\n",
    "    puzzle, solution = line.split(\",\")\n",
    "    for j, q_s in enumerate(zip(puzzle.split(' '), solution.split(' '))):\n",
    "        q, s = q_s[0], q_s[1]\n",
    "        puzzles[i, j] = q\n",
    "        solutions[i, j] = s\n",
    "puzzles = puzzles.reshape((-1, yy, yy))\n",
    "solutions = solutions.reshape((-1, yy, yy))\n",
    "\n",
    "givens = []\n",
    "for puzzle in puzzles:\n",
    "    p = puzzle.tolist()\n",
    "    counter = 0\n",
    "    for i in np.arange(1, yy+1):\n",
    "        for j in np.arange(1, yy+1):\n",
    "            if p[i-1][j-1] != 0:\n",
    "                counter += 1\n",
    "    givens.append(counter)\n",
    "givens = np.array(givens)\n",
    "\n",
    "print('-----------------------------------')\n",
    "print('Puzzle size {}x{}'.format(dim5, dim5))\n",
    "print('Cells: {}'.format(dim5**4))\n",
    "print('Givens mean: {}'.format(givens.mean()))\n",
    "print('Ratio: {}'.format(givens.mean()/(dim5**4)))\n",
    "print('Stdev: {}'.format(givens.std()))\n",
    "print('Givens min: {}'.format(givens.min()))\n",
    "print('Givens max: {}'.format(givens.max()))\n",
    "print('-----------------------------------\\n') "
   ]
  },
  {
   "cell_type": "code",
   "execution_count": 75,
   "metadata": {},
   "outputs": [
    {
     "name": "stdout",
     "output_type": "stream",
     "text": [
      "-----------------------------------\n",
      "Puzzle size 6x6\n",
      "Cells: 1296\n",
      "Givens mean: 670.1360907271514\n",
      "Ratio: 0.5170803169190983\n",
      "Stdev: 17.89593067014979\n",
      "Givens min: 636\n",
      "Givens max: 714\n",
      "-----------------------------------\n",
      "\n"
     ]
    }
   ],
   "source": [
    "dim6 = 6\n",
    "N = 1499\n",
    "xx = dim6 ** 4\n",
    "yy = dim6 ** 2\n",
    "puzzles = np.zeros((N, xx), np.int32)\n",
    "solutions = np.zeros((N, xx), np.int32)\n",
    "for i, line in enumerate(open('../resources/sudoku_{}.csv'.format(dim6), 'r').read().splitlines()[1:N + 1]):\n",
    "    puzzle, solution = line.split(\",\")\n",
    "    for j, q_s in enumerate(zip(puzzle.split(' '), solution.split(' '))):\n",
    "        q, s = q_s[0], q_s[1]\n",
    "        puzzles[i, j] = q\n",
    "        solutions[i, j] = s\n",
    "puzzles = puzzles.reshape((-1, yy, yy))\n",
    "solutions = solutions.reshape((-1, yy, yy))\n",
    "\n",
    "givens = []\n",
    "for puzzle in puzzles:\n",
    "    p = puzzle.tolist()\n",
    "    counter = 0\n",
    "    for i in np.arange(1, yy+1):\n",
    "        for j in np.arange(1, yy+1):\n",
    "            if p[i-1][j-1] != 0:\n",
    "                counter += 1\n",
    "    givens.append(counter)\n",
    "givens = np.array(givens)\n",
    "\n",
    "print('-----------------------------------')\n",
    "print('Puzzle size {}x{}'.format(dim6, dim6))\n",
    "print('Cells: {}'.format(dim6**4))\n",
    "print('Givens mean: {}'.format(givens.mean()))\n",
    "print('Ratio: {}'.format(givens.mean()/(dim6**4)))\n",
    "print('Stdev: {}'.format(givens.std()))\n",
    "print('Givens min: {}'.format(givens.min()))\n",
    "print('Givens max: {}'.format(givens.max()))\n",
    "print('-----------------------------------\\n') "
   ]
  }
 ],
 "metadata": {
  "kernelspec": {
   "display_name": "Python 3",
   "language": "python",
   "name": "python3"
  },
  "language_info": {
   "codemirror_mode": {
    "name": "ipython",
    "version": 3
   },
   "file_extension": ".py",
   "mimetype": "text/x-python",
   "name": "python",
   "nbconvert_exporter": "python",
   "pygments_lexer": "ipython3",
   "version": "3.6.1"
  }
 },
 "nbformat": 4,
 "nbformat_minor": 2
}
